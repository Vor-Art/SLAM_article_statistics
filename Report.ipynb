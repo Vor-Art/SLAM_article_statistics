{
 "cells": [
  {
   "cell_type": "markdown",
   "metadata": {},
   "source": [
    "# STDSR 2024 Robotics \n",
    "## Case Study. Midterm\n",
    "\n",
    "Students: \n",
    "- Artem Voronov (a.voronov@innopolis.university)\n",
    "- Roman Voronov (r.voronov@innopolis.university)\n",
    "___"
   ]
  },
  {
   "cell_type": "markdown",
   "metadata": {},
   "source": [
    "**Research topic:** *\"Investigating the Evolution and Impact of SLAM Research in China Compared to Global Trends Over the Last Decade\"*"
   ]
  },
  {
   "cell_type": "markdown",
   "metadata": {},
   "source": [
    "## 1. Introduction\n",
    "\n",
    "> This section will discuss our motivation for the topic, provide a brief background, and propose some research questions."
   ]
  },
  {
   "cell_type": "markdown",
   "metadata": {},
   "source": [
    "### 1.1 Motivation\n",
    "\n",
    "We are currently writing a joint thesis: \"Customization and Enhancement of the FasterLIO Algorithm in Construction Environments: Insights from the Hilti SLAM Challenge\".  In the process of making Related works, we collected articles for insight. In addition, we consulted with our supervisor and asked him for articles for overview. It was surprising that the majority (9 out of 10) of these works were authored by the Chinese. We wondered if China was the leader in the field of LiDAR SLAM, or if we had a very limited sample.\n",
    "\n",
    "In our work, we have formulated research questions, analyzed the options and selected CrossRef as the database for scientific papers. We filtered out the data and filled in the missing locations based on the authors and journals. After that, we conducted a statistical analysis and maked a conclusion about the evolution of the SLAM realm."
   ]
  },
  {
   "cell_type": "markdown",
   "metadata": {},
   "source": [
    "### 1.2 Research Questions\n",
    "\n",
    "Including all of the above, we have formulated the following questions:\n",
    "\n",
    "1. **Quantitative Growth in SLAM Research:** Has the number of research articles on SLAM increased in China over the past 10 years, and how does this trend compare to the global growth in SLAM research publications?\n",
    "\n",
    "2. **Correlation of Publication Growth:** Does the growth in the number of SLAM publications in China correlate with the growth of SLAM publications worldwide? This question aims to identify if there's a parallel trend or if China's growth in SLAM research is distinctive in some way.\n",
    "\n",
    "3. **Comparative Analysis of Publication Quality and Quantity:** Is the number and quality (as indicated by citations, journal impact factors, and possibly other metrics like awards or recognition within the scientific community) of scientific publications on SLAM from China higher than similar publications from other countries? This involves not just a quantitative analysis but also a qualitative assessment to gauge the global standing of China's contributions to the SLAM field."
   ]
  },
  {
   "cell_type": "markdown",
   "metadata": {},
   "source": [
    "### 1.3 Background\n",
    "> Here we will provide a brief introduction to the specific details necessary to fully understand the context\n",
    "\n",
    "Simultaneous Localization and Mapping (SLAM) algorithms form the basis of robotics and autonomous systems, allowing them to navigate and understand their surroundings. Broadly speaking, this algorithm uses data from sensors to create a map of the environment, along with the robot's position on it. There are two main types of SLAM: visual and laser. They differ in the type of sensor used. In our work, we will focus only on the laser SLAM, which uses LiDAR to measure the environment.\n",
    "\n",
    "Sensor LiDAR (light detection and ranging) provides precise, high-resolution measurements of distances to surrounding objects. Lidar systems are classified as either two-dimensional (2D) or three-dimensional (3D), and they vary in field of view (FOV).\n",
    "\n",
    "Crossref is a nonprofit organization that enhances scholarly communication by providing a system for citation linking and metadata storage for academic content. It assigns DOIs to scholarly works, facilitating persistent access and reliable citation. Choosing Crossref for statistical analysis has several benefits due to its comprehensive database and robust metadata collection. This allows for precise tracking of publications, citations, and trends within the SLAM field.\n"
   ]
  },
  {
   "cell_type": "markdown",
   "metadata": {},
   "source": [
    "## 2. Data Collection\n",
    "\n",
    "> What difficulties we encountered and how we managed to obtain and recreate some of the data.\n",
    "\n",
    "We concentrated on articles in English with keywords (SLAM & LIDAR) in the Crossref database.  \n",
    "In total, we found 46933 works.\n",
    "\n",
    "The following programs were written to collect the information:\n",
    "- **1 get_articles_cross_ref.ipynb** - Retrieving data from crossref, identifying important information, saving results to file: *slam_article.csv*\n",
    "- **2 get_country_by_address.ipynb** - By address, university, and affelation find the country that published the work, saving results to files: *'\\*_dict.csv'*\n",
    "- **3 add_country_to_dataset.ipynb** - Adding a new column with countries to a dataset, saving results to file: *slam_articles_with_country.csv*\n",
    "\n",
    "### 2.1 Choosing API for retrieving articles list\n",
    "\n",
    "The original plan was to retrieve the list of articles from **Google Scholar**. However, google does not provide an official API for this, so after some searches the **Serpapi** framework was found.\n",
    "It had problems with the fact that the free version allows you to make only 100 requests per month, and each request can get no more than 20 articles. So we continued our search.  \n",
    "There were attempts to get information from **IEEE**, **ResearchGate**, **Arxiv.org**. However, the first two also did not have an official API, and the number of articles on SLAM on the Arxiv site was not very large (1696).  \n",
    "In the end, the source **Crossref** was found, which has a large number of articles, as well as a convenient framework for obtaining the list of articles.\n",
    "\n",
    "### 2.2 Retrieving information about articles\n",
    "\n",
    "The maximum number of articles that can be retrieved from one query is 1000, so to retrieve all articles (~ 47 000) we need to make 47 consecutive queries.\n",
    "\n",
    "We need to know the country where the article was written. In the additional information in crossref there are such fields: 'publisher', 'publisher_location'. However, the publisher does not always accurately give the country that did the research.\n",
    "\n",
    "For example, the article *Faster-LIO: Lightweight Tightly Coupled Lidar-Inertial Odometry Using Parallel Sparse Incremental Voxels*, was written by the famous MARS lab in Hong Kong, but its publisher is IEEE.  \n",
    "\n",
    "<img src=\"img/Faster-LIO.png\" alt=\"Image\" style=\"width: 50%;\">\n",
    "\n",
    "To determine the country, we decided to first use the affelation of the main author, for example: \"*Department of Electronic Information and Engineering, Tsinghua University, Beijing, China*\"\n",
    "\n",
    "### 2.3 Finding countries by affiliations, and universities\n",
    "\n",
    "Many field values do not contain countries, so we used the geopy.geocoders service to obtain them.  \n",
    "Example of addresses and obtained countries:\n",
    "- KAIST, Dept. of Civil and Envtl. Eng., Daejeon, South Korea -> South Korea\n",
    "- Institute for Research of Applicable Computing University of Bedfordshire, Luton, UK -> United Kingdom\n",
    "- Boston, MA -> United States\n",
    "- Massachusetts Institute of Technology -> United States\n",
    "- School of Computer Engineering and Science, Shanghai University, Shanghai -> China\n",
    "\n",
    "As a result, about 26% of articles with countries were obtained in this way:  \n",
    "> 12225/46933 (26.0%) articles with country"
   ]
  },
  {
   "cell_type": "markdown",
   "metadata": {},
   "source": [
    "## 3. Methods\n",
    "> Material on general statistical topics, such as hypothesis testing and parameter estimation, and such as goodness-of- fit tests, bootstrap, etc.\n",
    "\n",
    "+ Time-series analysis\n",
    "+ Pearson correlation coefficient\n",
    "+ t-test or Mann-Whitney U test\n",
    "\n",
    "+ h-index and i10-index\n",
    " "
   ]
  },
  {
   "cell_type": "markdown",
   "metadata": {},
   "source": [
    "## 4. Implimentation"
   ]
  },
  {
   "cell_type": "code",
   "execution_count": 6,
   "metadata": {},
   "outputs": [
    {
     "name": "stdout",
     "output_type": "stream",
     "text": [
      "<class 'pandas.core.frame.DataFrame'>\n",
      "RangeIndex: 46913 entries, 0 to 46912\n",
      "Data columns (total 12 columns):\n",
      " #   Column                  Non-Null Count  Dtype  \n",
      "---  ------                  --------------  -----  \n",
      " 0   title                   46908 non-null  object \n",
      " 1   DOI                     46913 non-null  object \n",
      " 2   publisher               46913 non-null  object \n",
      " 3   publisher_location      3887 non-null   object \n",
      " 4   year                    46913 non-null  int64  \n",
      " 5   type                    46911 non-null  object \n",
      " 6   score                   46911 non-null  object \n",
      " 7   reference-count         46878 non-null  float64\n",
      " 8   is-referenced-by-count  46878 non-null  float64\n",
      " 9   authors                 45241 non-null  object \n",
      " 10  publisher_affiliation   9151 non-null   object \n",
      " 11  country                 12221 non-null  object \n",
      "dtypes: float64(2), int64(1), object(9)\n",
      "memory usage: 4.3+ MB\n"
     ]
    }
   ],
   "source": [
    "%run Implimentation.ipynb"
   ]
  },
  {
   "cell_type": "markdown",
   "metadata": {},
   "source": [
    "## 5. Results\n",
    "\n",
    "+ **Statistical significance:** Report p-values and confidence intervals where applicable.\n",
    "+ **Effect size:** When differences are found, quantify how large they are.\n",
    "+ **Assumptions:** Note any assumptions made during the analysis, such as normality or independence of observations.\n",
    "+ **Limitations:** Discuss limitations of your analysis, such as potential biases in the dataset or the representativeness of citation counts as a quality metric."
   ]
  },
  {
   "cell_type": "markdown",
   "metadata": {},
   "source": [
    "## 6. Conclusion\n",
    "\n",
    "> Clear answer(s) to the question(s). Threats to validity: explain why your results may be invalidated (under which conditions?) \n",
    "\n",
    "3. **Comparative Analysis of Publication Quality and Quantity?**  \n",
    "Over the past 5 years, China has significantly increased from 6.9% in 2018 to 36.2% in 2023 of the total publications in this field, becoming the leader in the number of publications.  \n",
    "However, in other criteria such as h-index and i10-index, the USA remains the leader. China, meanwhile, shows the highest growth in these criteria.  \n",
    "[Code and visualization](src/4%20visualizing.ipynb)\n",
    "\n",
    "## 7. References\n",
    "\n",
    "+ [1] text\n",
    "+ [2] text\n",
    "\n",
    "## 8.  Contributions of co-authors\n",
    "\n",
    "This project was completed in a group with an even contribution from the authors. To be more specific, Roman was responsible for collecting, filtering, and preparing the dataset, while Artem was responsible for the structure and content of the report. The analysis and statistical part of the work were completed together.\n",
    "\n"
   ]
  },
  {
   "cell_type": "markdown",
   "metadata": {},
   "source": []
  }
 ],
 "metadata": {
  "kernelspec": {
   "display_name": "env",
   "language": "python",
   "name": "python3"
  },
  "language_info": {
   "codemirror_mode": {
    "name": "ipython",
    "version": 3
   },
   "file_extension": ".py",
   "mimetype": "text/x-python",
   "name": "python",
   "nbconvert_exporter": "python",
   "pygments_lexer": "ipython3",
   "version": "3.8.10"
  }
 },
 "nbformat": 4,
 "nbformat_minor": 2
}
