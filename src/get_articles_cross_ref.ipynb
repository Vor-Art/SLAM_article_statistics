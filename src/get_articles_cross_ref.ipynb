{
 "cells": [
  {
   "cell_type": "code",
   "execution_count": 52,
   "metadata": {},
   "outputs": [],
   "source": [
    "import requests\n",
    "import pandas as pd\n",
    "from time import time"
   ]
  },
  {
   "cell_type": "code",
   "execution_count": 53,
   "metadata": {},
   "outputs": [],
   "source": [
    "api_url = \"https://api.crossref.org/works\"\n",
    "query_params = {\n",
    "    \"query\": \"LiDAR SLAM\",\n",
    "    \"rows\": 1000,  # Adjust based on how many results you want per page\n",
    "    # \"offset\": 0, # Deprecated use cursor instead\n",
    "    \"cursor\": \"*\"  # Starting cursor\n",
    "}"
   ]
  },
  {
   "cell_type": "code",
   "execution_count": 54,
   "metadata": {},
   "outputs": [
    {
     "name": "stdout",
     "output_type": "stream",
     "text": [
      "Query: {'start-index': 0, 'search-terms': 'LiDAR SLAM'}\n",
      "The number of work matched criteria = 46781\n",
      "\n"
     ]
    }
   ],
   "source": [
    "test_params = query_params.copy()\n",
    "test_params[\"rows\"] = 10\n",
    "\n",
    "response = requests.get(api_url, params=test_params)\n",
    "if response.status_code != 200: raise SystemExit(\"Bad response\")\n",
    "\n",
    "data = response.json()\n",
    "Number_of_articles = data['message']['total-results']\n",
    "print(f\"Query: {data['message']['query']}\")\n",
    "print(f\"The number of work matched criteria = {Number_of_articles}\\n\")"
   ]
  },
  {
   "cell_type": "code",
   "execution_count": 61,
   "metadata": {},
   "outputs": [],
   "source": [
    "def get_article_info(item):\n",
    "    Authors = item.get('author', [])\n",
    "    article_info = {\n",
    "        \"title\": item.get('title', ['No Title'])[0].replace(\"\\n\", \" \").replace(\"\\xa0\", \" \"),\n",
    "        \"publisher_location\": item.get('publisher-location'),\n",
    "        \"year\": item.get('created', {}).get('date-parts', [[None]])[0][0],\n",
    "        \"type\": item.get('type'),\n",
    "        \"reference-count\": item.get('reference-count'),\n",
    "        \"authors\": ', '.join([author.get('given', '') + \" \" + author.get('family', '') for author in Authors])\n",
    "    }\n",
    "    try:\n",
    "        first_author_affiliation = Authors[0].get('affiliation', [])\n",
    "        affiliation_location = first_author_affiliation[0].get('name')\n",
    "        article_info[\"publisher_affiliation\"] = affiliation_location.replace(\"\\n\", \" \").replace(\"\\xa0\", \" \")\n",
    "    except Exception:\n",
    "        article_info[\"publisher_affiliation\"] = \"Unknown\"\n",
    "    \n",
    "    return article_info"
   ]
  },
  {
   "cell_type": "code",
   "execution_count": 62,
   "metadata": {},
   "outputs": [
    {
     "name": "stdout",
     "output_type": "stream",
     "text": [
      "articles found: 1000/46781 (4.71 sec)\n",
      "articles found: 2000/46781 (7.58 sec)\n",
      "articles found: 3000/46781 (10.96 sec)\n",
      "articles found: 4000/46781 (13.90 sec)\n",
      "articles found: 5000/46781 (17.58 sec)\n",
      "articles found: 6000/46781 (22.81 sec)\n",
      "articles found: 7000/46781 (28.61 sec)\n",
      "articles found: 8000/46781 (34.74 sec)\n",
      "articles found: 9000/46781 (39.34 sec)\n",
      "articles found: 10000/46781 (45.70 sec)\n",
      "articles found: 11000/46781 (50.97 sec)\n",
      "articles found: 12000/46781 (55.55 sec)\n",
      "articles found: 13000/46781 (61.44 sec)\n",
      "articles found: 14000/46781 (67.36 sec)\n",
      "articles found: 15000/46781 (71.48 sec)\n",
      "articles found: 16000/46781 (77.53 sec)\n",
      "articles found: 17000/46781 (82.68 sec)\n",
      "articles found: 18000/46781 (87.45 sec)\n",
      "articles found: 19000/46781 (91.55 sec)\n",
      "articles found: 20000/46781 (97.92 sec)\n",
      "articles found: 21000/46781 (103.24 sec)\n",
      "articles found: 22000/46781 (107.89 sec)\n",
      "articles found: 23000/46781 (113.45 sec)\n",
      "articles found: 24000/46781 (119.17 sec)\n",
      "articles found: 25000/46781 (124.39 sec)\n",
      "articles found: 26000/46781 (129.45 sec)\n",
      "articles found: 27000/46781 (133.85 sec)\n",
      "articles found: 28000/46781 (138.97 sec)\n",
      "articles found: 29000/46781 (144.16 sec)\n",
      "articles found: 30000/46781 (149.79 sec)\n",
      "articles found: 31000/46781 (158.32 sec)\n",
      "articles found: 32000/46781 (164.23 sec)\n",
      "articles found: 33000/46781 (173.49 sec)\n",
      "articles found: 34000/46781 (180.64 sec)\n",
      "articles found: 35000/46781 (187.78 sec)\n",
      "articles found: 36000/46781 (198.06 sec)\n",
      "articles found: 37000/46781 (205.44 sec)\n",
      "articles found: 38000/46781 (213.36 sec)\n",
      "articles found: 39000/46781 (219.63 sec)\n",
      "articles found: 40000/46781 (226.68 sec)\n",
      "articles found: 41000/46781 (236.17 sec)\n",
      "articles found: 42000/46781 (242.63 sec)\n",
      "articles found: 43000/46781 (248.31 sec)\n",
      "articles found: 44000/46781 (253.63 sec)\n",
      "articles found: 45000/46781 (259.66 sec)\n",
      "articles found: 46000/46781 (269.01 sec)\n",
      "articles found: 46781/46781 (276.17 sec)\n"
     ]
    }
   ],
   "source": [
    "cur_query_params = query_params.copy()\n",
    "articles = []  # List to store article information\n",
    "\n",
    "start = time()\n",
    "while True: \n",
    "    response = requests.get(api_url, params=cur_query_params)\n",
    "    if response.status_code != 200: raise SystemExit(f\"Bad response ({response.status_code}): {response.json()[\"message\"]}\")\n",
    "\n",
    "    data = response.json()\n",
    "    items = data['message']['items']\n",
    "\n",
    "    if not items: break\n",
    "\n",
    "    for item in items:\n",
    "        articles.append(get_article_info(item))\n",
    "\n",
    "    cur_query_params['cursor'] = data['message'].get('next-cursor')\n",
    "    print(f\"articles found: {len(articles)}/{Number_of_articles} ({(time() - start):.2f} sec)\")"
   ]
  },
  {
   "cell_type": "code",
   "execution_count": 57,
   "metadata": {},
   "outputs": [
    {
     "data": {
      "text/html": [
       "<div>\n",
       "<style scoped>\n",
       "    .dataframe tbody tr th:only-of-type {\n",
       "        vertical-align: middle;\n",
       "    }\n",
       "\n",
       "    .dataframe tbody tr th {\n",
       "        vertical-align: top;\n",
       "    }\n",
       "\n",
       "    .dataframe thead th {\n",
       "        text-align: right;\n",
       "    }\n",
       "</style>\n",
       "<table border=\"1\" class=\"dataframe\">\n",
       "  <thead>\n",
       "    <tr style=\"text-align: right;\">\n",
       "      <th></th>\n",
       "      <th>title</th>\n",
       "      <th>publisher_location</th>\n",
       "      <th>year</th>\n",
       "      <th>type</th>\n",
       "      <th>reference-count</th>\n",
       "      <th>authors</th>\n",
       "      <th>publisher_affiliation</th>\n",
       "    </tr>\n",
       "  </thead>\n",
       "  <tbody>\n",
       "    <tr>\n",
       "      <th>0</th>\n",
       "      <td>D3VIL-SLAM: 3D Visual Inertial LiDAR SLAM for ...</td>\n",
       "      <td>None</td>\n",
       "      <td>2023</td>\n",
       "      <td>proceedings-article</td>\n",
       "      <td>23.0</td>\n",
       "      <td>Matteo Frosi, Matteo Matteucci</td>\n",
       "      <td>Information and Bioengineering Politecnico di ...</td>\n",
       "    </tr>\n",
       "    <tr>\n",
       "      <th>1</th>\n",
       "      <td>Visual and lidar-based SLAM by variational bay...</td>\n",
       "      <td>None</td>\n",
       "      <td>2020</td>\n",
       "      <td>dissertation</td>\n",
       "      <td>0.0</td>\n",
       "      <td>, Xiaoyue Jiang</td>\n",
       "      <td>Unknown</td>\n",
       "    </tr>\n",
       "    <tr>\n",
       "      <th>2</th>\n",
       "      <td>A Comparison of Outdoor 3D Reconstruction betw...</td>\n",
       "      <td>None</td>\n",
       "      <td>2023</td>\n",
       "      <td>proceedings-article</td>\n",
       "      <td>10.0</td>\n",
       "      <td>Yi-Tian Hong, Han-Pang Huang</td>\n",
       "      <td>National Taiwan University,Department of Mecha...</td>\n",
       "    </tr>\n",
       "    <tr>\n",
       "      <th>3</th>\n",
       "      <td>Indoor mapping and positioning applications of...</td>\n",
       "      <td>None</td>\n",
       "      <td>2021</td>\n",
       "      <td>journal-article</td>\n",
       "      <td>29.0</td>\n",
       "      <td>Mustafa ZEYBEK</td>\n",
       "      <td>Unknown</td>\n",
       "    </tr>\n",
       "    <tr>\n",
       "      <th>4</th>\n",
       "      <td>SC-LiDAR-SLAM: A Front-end Agnostic Versatile ...</td>\n",
       "      <td>None</td>\n",
       "      <td>2022</td>\n",
       "      <td>proceedings-article</td>\n",
       "      <td>46.0</td>\n",
       "      <td>Giseop Kim, Seungsang Yun, Jeongyun Kim, Ayoun...</td>\n",
       "      <td>KAIST,Dept. of Civil and Envtl. Eng.,Daejeon,S...</td>\n",
       "    </tr>\n",
       "  </tbody>\n",
       "</table>\n",
       "</div>"
      ],
      "text/plain": [
       "                                               title publisher_location  year  \\\n",
       "0  D3VIL-SLAM: 3D Visual Inertial LiDAR SLAM for ...               None  2023   \n",
       "1  Visual and lidar-based SLAM by variational bay...               None  2020   \n",
       "2  A Comparison of Outdoor 3D Reconstruction betw...               None  2023   \n",
       "3  Indoor mapping and positioning applications of...               None  2021   \n",
       "4  SC-LiDAR-SLAM: A Front-end Agnostic Versatile ...               None  2022   \n",
       "\n",
       "                  type  reference-count  \\\n",
       "0  proceedings-article             23.0   \n",
       "1         dissertation              0.0   \n",
       "2  proceedings-article             10.0   \n",
       "3      journal-article             29.0   \n",
       "4  proceedings-article             46.0   \n",
       "\n",
       "                                             authors  \\\n",
       "0                     Matteo Frosi, Matteo Matteucci   \n",
       "1                                    , Xiaoyue Jiang   \n",
       "2                       Yi-Tian Hong, Han-Pang Huang   \n",
       "3                                     Mustafa ZEYBEK   \n",
       "4  Giseop Kim, Seungsang Yun, Jeongyun Kim, Ayoun...   \n",
       "\n",
       "                               publisher_affiliation  \n",
       "0  Information and Bioengineering Politecnico di ...  \n",
       "1                                            Unknown  \n",
       "2  National Taiwan University,Department of Mecha...  \n",
       "3                                            Unknown  \n",
       "4  KAIST,Dept. of Civil and Envtl. Eng.,Daejeon,S...  "
      ]
     },
     "execution_count": 57,
     "metadata": {},
     "output_type": "execute_result"
    }
   ],
   "source": [
    "df = pd.DataFrame(articles)\n",
    "df.head()"
   ]
  },
  {
   "cell_type": "code",
   "execution_count": 58,
   "metadata": {},
   "outputs": [
    {
     "name": "stdout",
     "output_type": "stream",
     "text": [
      "<class 'pandas.core.frame.DataFrame'>\n",
      "RangeIndex: 46781 entries, 0 to 46780\n",
      "Data columns (total 7 columns):\n",
      " #   Column                 Non-Null Count  Dtype  \n",
      "---  ------                 --------------  -----  \n",
      " 0   title                  46781 non-null  object \n",
      " 1   publisher_location     3883 non-null   object \n",
      " 2   year                   46781 non-null  int64  \n",
      " 3   type                   46779 non-null  object \n",
      " 4   reference-count        46746 non-null  float64\n",
      " 5   authors                46781 non-null  object \n",
      " 6   publisher_affiliation  46781 non-null  object \n",
      "dtypes: float64(1), int64(1), object(5)\n",
      "memory usage: 2.5+ MB\n"
     ]
    }
   ],
   "source": [
    "df.info()"
   ]
  },
  {
   "cell_type": "code",
   "execution_count": 59,
   "metadata": {},
   "outputs": [
    {
     "name": "stdout",
     "output_type": "stream",
     "text": [
      "<class 'pandas.core.frame.DataFrame'>\n",
      "Index: 12545 entries, 0 to 46778\n",
      "Data columns (total 7 columns):\n",
      " #   Column                 Non-Null Count  Dtype  \n",
      "---  ------                 --------------  -----  \n",
      " 0   title                  12545 non-null  object \n",
      " 1   publisher_location     3883 non-null   object \n",
      " 2   year                   12545 non-null  int64  \n",
      " 3   type                   12544 non-null  object \n",
      " 4   reference-count        12545 non-null  float64\n",
      " 5   authors                12545 non-null  object \n",
      " 6   publisher_affiliation  12545 non-null  object \n",
      "dtypes: float64(1), int64(1), object(5)\n",
      "memory usage: 784.1+ KB\n"
     ]
    }
   ],
   "source": [
    "# Removal condition\n",
    "condition = ~((df['publisher_location'].isna()) & (df['publisher_affiliation'] == 'Unknown'))\n",
    "\n",
    "# Apply condition\n",
    "df_filtered = df[condition]\n",
    "df_filtered.info()"
   ]
  },
  {
   "cell_type": "code",
   "execution_count": 60,
   "metadata": {},
   "outputs": [],
   "source": [
    "# Save the DataFrame to a CSV file with proper handling of newline characters\n",
    "df.to_csv('slam_articles.csv', index=False, encoding='utf-8', quoting=1)"
   ]
  }
 ],
 "metadata": {
  "kernelspec": {
   "display_name": "Python 3",
   "language": "python",
   "name": "python3"
  },
  "language_info": {
   "codemirror_mode": {
    "name": "ipython",
    "version": 3
   },
   "file_extension": ".py",
   "mimetype": "text/x-python",
   "name": "python",
   "nbconvert_exporter": "python",
   "pygments_lexer": "ipython3",
   "version": "3.12.0"
  }
 },
 "nbformat": 4,
 "nbformat_minor": 2
}
