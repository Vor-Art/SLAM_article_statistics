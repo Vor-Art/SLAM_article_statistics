{
 "cells": [
  {
   "cell_type": "markdown",
   "metadata": {},
   "source": [
    "# Use the address and university to find the country"
   ]
  },
  {
   "cell_type": "markdown",
   "metadata": {},
   "source": [
    "### import the required libraries"
   ]
  },
  {
   "cell_type": "code",
   "execution_count": 29,
   "metadata": {},
   "outputs": [],
   "source": [
    "from geopy.geocoders import Nominatim\n",
    "from time import time, sleep\n",
    "import pandas as pd"
   ]
  },
  {
   "cell_type": "markdown",
   "metadata": {},
   "source": [
    "### Declaring a list of countries for quick matching"
   ]
  },
  {
   "cell_type": "code",
   "execution_count": 30,
   "metadata": {},
   "outputs": [],
   "source": [
    "# List of base countries\n",
    "base_countries = {\n",
    "    'Republic of Korea': 'South Korea',\n",
    "    'Taiwan': 'China', 'Hong Kong': 'China', 'UAE': 'United Arab Emirates',\n",
    "    'New York': 'United States', 'USA': 'United States', 'UK': 'United Kingdom', \n",
    "    \n",
    "    'United States': 'United States', 'Germany': 'Germany', 'Italy': 'Italy', \n",
    "    'United Kingdom': 'United Kingdom', 'France': 'France', 'Canada': 'Canada', \n",
    "    'Brazil': 'Brazil', 'Australia': 'Australia', 'Spain': 'Spain', 'Russia': 'Russia', \n",
    "    'India': 'India', 'China': 'China', 'Japan': 'Japan', 'South Korea': 'South Korea', \n",
    "    'Mexico': 'Mexico', 'Netherlands': 'Netherlands', 'Switzerland': 'Switzerland', \n",
    "    'Sweden': 'Sweden', 'Belgium': 'Belgium', 'Austria': 'Austria', 'Norway': 'Norway', \n",
    "    'Denmark': 'Denmark', 'Finland': 'Finland', 'Greece': 'Greece', 'Portugal': 'Portugal', \n",
    "    'New Zealand': 'New Zealand', 'Ireland': 'Ireland', 'Poland': 'Poland', \n",
    "    'Czech Republic': 'Czech Republic', 'Turkey': 'Turkey', 'South Africa': 'South Africa', \n",
    "    'Argentina': 'Argentina', 'Hungary': 'Hungary', 'Chile': 'Chile', 'Singapore': 'Singapore', \n",
    "    'Israel': 'Israel', 'Thailand': 'Thailand', 'Malaysia': 'Malaysia', 'Indonesia': 'Indonesia', \n",
    "    'Ukraine': 'Ukraine', 'Vietnam': 'Vietnam', 'Philippines': 'Philippines', 'Egypt': 'Egypt', \n",
    "    'Saudi Arabia': 'Saudi Arabia', 'United Arab Emirates': 'United Arab Emirates', \n",
    "    'Pakistan': 'Pakistan', 'Iran': 'Iran', 'Iraq': 'Iraq', 'Kuwait': 'Kuwait', 'Qatar': 'Qatar', \n",
    "    'Nigeria': 'Nigeria', 'Kenya': 'Kenya', 'Morocco': 'Morocco', 'Algeria': 'Algeria', \n",
    "    'Tunisia': 'Tunisia', 'Ghana': 'Ghana', 'Ethiopia': 'Ethiopia', 'Cameroon': 'Cameroon', \n",
    "    'Uganda': 'Uganda', 'Senegal': 'Senegal', 'Zimbabwe': 'Zimbabwe', 'Zambia': 'Zambia', \n",
    "    'Tanzania': 'Tanzania', 'Botswana': 'Botswana', 'Namibia': 'Namibia', 'Mauritius': 'Mauritius', \n",
    "    'Madagascar': 'Madagascar', 'Angola': 'Angola', 'Mozambique': 'Mozambique', 'Rwanda': 'Rwanda', \n",
    "    'Ivory Coast': 'Ivory Coast', 'Burkina Faso': 'Burkina Faso', 'Uzbekistan': 'Uzbekistan', \n",
    "    'Kazakhstan': 'Kazakhstan', 'Turkmenistan': 'Turkmenistan', 'Azerbaijan': 'Azerbaijan', \n",
    "    'Georgia': 'Georgia', 'Armenia': 'Armenia', 'Belarus': 'Belarus', 'Moldova': 'Moldova', \n",
    "    'Kyrgyzstan': 'Kyrgyzstan', 'Tajikistan': 'Tajikistan', 'Latvia': 'Latvia', \n",
    "    'Lithuania': 'Lithuania', 'Estonia': 'Estonia', 'Slovakia': 'Slovakia', 'Slovenia': 'Slovenia', \n",
    "    'Croatia': 'Croatia', 'Bulgaria': 'Bulgaria', 'Romania': 'Romania', 'Serbia': 'Serbia', \n",
    "    'Bosnia and Herzegovina': 'Bosnia and Herzegovina', 'Montenegro': 'Montenegro', \n",
    "    'North Macedonia': 'North Macedonia', 'Albania': 'Albania', 'Kosovo': 'Kosovo', \n",
    "    'Cyprus': 'Cyprus', 'Malta': 'Malta', 'Iceland': 'Iceland', 'Luxembourg': 'Luxembourg', \n",
    "    'Liechtenstein': 'Liechtenstein', 'Monaco': 'Monaco', 'Andorra': 'Andorra', 'San Marino': 'San Marino', \n",
    "    'Vatican': 'Vatican'\n",
    "}"
   ]
  },
  {
   "cell_type": "markdown",
   "metadata": {},
   "source": [
    "### Define function to find country"
   ]
  },
  {
   "cell_type": "code",
   "execution_count": 31,
   "metadata": {},
   "outputs": [],
   "source": [
    "from geopy.exc import GeocoderUnavailable\n",
    "\n",
    "def get_country_from_list(address):\n",
    "    for key_country, country in base_countries.items():\n",
    "        if key_country.lower() in address.lower():\n",
    "            return country #+ \"*\"\n",
    "    return None\n",
    "\n",
    "def get_country(address):\n",
    "    country = get_country_from_list(address)\n",
    "    if country: return country\n",
    "\n",
    "    # If not, use geocoder to get the cosuntry\n",
    "    geolocator = Nominatim(user_agent=\"address_to_country_converter\")\n",
    "    for _ in range(3): # Number of retries\n",
    "        try:\n",
    "            location = geolocator.geocode(address, language=\"en\")\n",
    "            return location.address.split(\",\")[-1].strip() if location else None\n",
    "        except GeocoderUnavailable:\n",
    "            # If geocoder is unavailable, wait and then retry\n",
    "            print(\"Sleep\")\n",
    "            sleep(1)\n",
    "    print(\"Service unavailable\")\n",
    "    return None"
   ]
  },
  {
   "cell_type": "markdown",
   "metadata": {},
   "source": [
    "## Read dataset"
   ]
  },
  {
   "cell_type": "code",
   "execution_count": 32,
   "metadata": {},
   "outputs": [
    {
     "name": "stdout",
     "output_type": "stream",
     "text": [
      "publisher count: 1561\n",
      "publisher locations count: 104\n",
      "universities count: 7680\n"
     ]
    }
   ],
   "source": [
    "import unicodedata\n",
    "\n",
    "df = pd.read_csv('slam_articles.csv')\n",
    "publishers = set(df[\"publisher\"])\n",
    "publisher_locations = set(df[\"publisher_location\"])\n",
    "universities = set(df[\"publisher_affiliation\"])\n",
    "\n",
    "# fix string text:\n",
    "publishers = {str(pub) for pub in publishers if pub}\n",
    "publisher_locations = {str(loc) for loc in publisher_locations if loc}\n",
    "universities = {str(uni) for uni in universities if uni}\n",
    "\n",
    "# remove bad values\n",
    "for cur_set in [publishers, publisher_locations, universities]:\n",
    "    cur_set.discard('nan')\n",
    "    cur_set.discard(',')\n",
    "    cur_set.discard('Unknown')\n",
    "    cur_set.discard('unknown')\n",
    "\n",
    "print(f\"publishers count: {len(publishers)}\")\n",
    "print(f\"publisher locations count: {len(publisher_locations)}\")\n",
    "print(f\"universities count: {len(universities)}\")"
   ]
  },
  {
   "cell_type": "markdown",
   "metadata": {},
   "source": [
    "### Find countries for publishers (Use only base list)"
   ]
  },
  {
   "cell_type": "code",
   "execution_count": 34,
   "metadata": {},
   "outputs": [
    {
     "name": "stdout",
     "output_type": "stream",
     "text": [
      "1561/1561 (100.0%): 0.099 sec \n"
     ]
    }
   ],
   "source": [
    "publishers_dict = {}\n",
    "\n",
    "N = len(publishers)\n",
    "start = time()\n",
    "for i, locat in enumerate(publishers):\n",
    "    if i % 20 == 0:\n",
    "        print(f\"\\r{i}/{N} ({(100*i/N):.1f}%): {(time() - start):.3f} sec \",end='')\n",
    "    publishers_dict[locat] = get_country_from_list(locat)\n",
    "print(f\"\\r{N}/{N} (100.0%): {(time() - start):.3f} sec \")"
   ]
  },
  {
   "cell_type": "code",
   "execution_count": 50,
   "metadata": {},
   "outputs": [
    {
     "name": "stdout",
     "output_type": "stream",
     "text": [
      "Informa UK Limited:\n",
      "\tUnited Kingdom\n",
      "Universidade da Beira Interior:\n",
      "\t-\n",
      "Politeknik Negeri Bandung:\n",
      "\t-\n",
      "Korean Geomorphological Association:\n",
      "\t-\n",
      "Ghana Institution of Engineering:\n",
      "\tGhana\n"
     ]
    }
   ],
   "source": [
    "for pub, loc in list(publishers_dict.items())[10:15]:\n",
    "    print(f\"{pub}:\\n\\t{loc if loc else '-'}\")"
   ]
  },
  {
   "cell_type": "markdown",
   "metadata": {},
   "source": [
    "### Find countries for publisher_locations"
   ]
  },
  {
   "cell_type": "code",
   "execution_count": 47,
   "metadata": {},
   "outputs": [
    {
     "name": "stdout",
     "output_type": "stream",
     "text": [
      "104/104 (100.0%): 36.070 sec \n"
     ]
    }
   ],
   "source": [
    "publisher_locations_dict = {}\n",
    "\n",
    "N = len(publisher_locations)\n",
    "start = time()\n",
    "for i, locat in enumerate(publisher_locations):\n",
    "    if i % 20 == 0:\n",
    "        print(f\"\\r{i}/{N} ({(100*i/N):.1f}%): {(time() - start):.3f} sec \",end='')\n",
    "    publisher_locations_dict[locat] = get_country(locat)\n",
    "print(f\"\\r{N}/{N} (100.0%): {(time() - start):.3f} sec \")"
   ]
  },
  {
   "cell_type": "code",
   "execution_count": 49,
   "metadata": {},
   "outputs": [
    {
     "name": "stdout",
     "output_type": "stream",
     "text": [
      "Botucatu, São Paulo, Brasil:\n",
      "\tBrazil\n",
      "Reston, Virginia:\n",
      "\tUnited States\n",
      "Southampton UK:\n",
      "\tUnited Kingdom\n",
      "Fort Collins, CO:\n",
      "\tUnited States\n",
      "Boston:\n",
      "\tUnited States\n"
     ]
    }
   ],
   "source": [
    "for pub, loc in list(publisher_locations_dict.items())[:5]:\n",
    "    print(f\"{pub}:\\n\\t{loc if loc else '-'}\")"
   ]
  },
  {
   "cell_type": "markdown",
   "metadata": {},
   "source": [
    "### Find countries for universities"
   ]
  },
  {
   "cell_type": "code",
   "execution_count": 51,
   "metadata": {},
   "outputs": [
    {
     "name": "stdout",
     "output_type": "stream",
     "text": [
      "220/7680 (2.9%): 26.938 sec Sleep\n",
      "Sleep\n",
      "Sleep\n",
      "Service unavailable\n",
      "460/7680 (6.0%): 71.320 sec Sleep\n",
      "Sleep\n",
      "Sleep\n",
      "Service unavailable\n",
      "2260/7680 (29.4%): 310.764 sec Sleep\n",
      "Sleep\n",
      "Sleep\n",
      "Service unavailable\n",
      "3800/7680 (49.5%): 524.334 sec Sleep\n",
      "Sleep\n",
      "Sleep\n",
      "Service unavailable\n",
      "Sleep\n",
      "Sleep\n",
      "Sleep\n",
      "Service unavailable\n",
      "3900/7680 (50.8%): 561.292 sec Sleep\n",
      "Sleep\n",
      "Sleep\n",
      "Service unavailable\n",
      "3980/7680 (51.8%): 581.561 sec Sleep\n",
      "Sleep\n",
      "Sleep\n",
      "Service unavailable\n",
      "4460/7680 (58.1%): 649.857 sec Sleep\n",
      "Sleep\n",
      "Sleep\n",
      "Service unavailable\n",
      "4560/7680 (59.4%): 676.990 sec Sleep\n",
      "Sleep\n",
      "Sleep\n",
      "Service unavailable\n",
      "6340/7680 (82.6%): 937.562 sec Sleep\n",
      "Sleep\n",
      "Sleep\n",
      "Service unavailable\n",
      "7320/7680 (95.3%): 1069.974 sec Sleep\n",
      "7680/7680 (100.0%): 1117.468 sec \n"
     ]
    }
   ],
   "source": [
    "universities_dict = {}\n",
    "\n",
    "N = len(universities)\n",
    "start = time()\n",
    "for i, locat in enumerate(universities):\n",
    "    if i % 20 == 0:\n",
    "        print(f\"\\r{i}/{N} ({(100*i/N):.1f}%): {(time() - start):.3f} sec \",end='')\n",
    "    universities_dict[locat] = get_country(locat)\n",
    "print(f\"\\r{N}/{N} (100.0%): {(time() - start):.3f} sec \")"
   ]
  },
  {
   "cell_type": "code",
   "execution_count": 58,
   "metadata": {},
   "outputs": [
    {
     "name": "stdout",
     "output_type": "stream",
     "text": [
      "Tropics and Subtropics Group, Institute of Agricultural Engineering, University of Hohenheim, 70599 Stuttgart, Germany:\n",
      "\tGermany\n",
      "Ecole Nationale de l'Aviation Civile:\n",
      "\tFrance\n",
      "Jilin University, College of Computer Science and Technology, Changchun, China:\n",
      "\tChina\n",
      "University of Castilla-La Mancha, Spain:\n",
      "\tSpain\n",
      "School of Electrical Engineering and KI-AI, Korea Advanced Institute of Science and Technology (KAIST), Daejeon, Republic of Korea:\n",
      "\tSouth Korea\n"
     ]
    }
   ],
   "source": [
    "for pub, loc in list(universities_dict.items())[45:50]:\n",
    "    print(f\"{pub}:\\n\\t{loc if loc else '-'}\")"
   ]
  },
  {
   "cell_type": "markdown",
   "metadata": {},
   "source": [
    "### Check not None countries"
   ]
  },
  {
   "cell_type": "code",
   "execution_count": 60,
   "metadata": {},
   "outputs": [
    {
     "name": "stdout",
     "output_type": "stream",
     "text": [
      "6497 / 7680 (84.6%)\n"
     ]
    }
   ],
   "source": [
    "not_none = 0\n",
    "for location in universities_dict.values():\n",
    "    if location: not_none+=1\n",
    "\n",
    "print(not_none,'/',len(universities_dict),f\"({(100*not_none/len(universities_dict)):.1f}%)\")"
   ]
  },
  {
   "cell_type": "code",
   "execution_count": 62,
   "metadata": {},
   "outputs": [
    {
     "name": "stdout",
     "output_type": "stream",
     "text": [
      "{'Germany', 'Cyprus', 'Slovenia', 'Azerbaijan', 'Bulgaria', 'Georgia', 'India', 'Croatia', 'Australia', None, 'Vietnam', 'South Africa', 'Turkey', 'Japan', 'Malaysia', 'Austria', 'Estonia', 'Romania', 'Belarus', 'Finland', 'Argentina', 'Belgium', 'Serbia', 'China', 'Netherlands', 'Switzerland', 'Ghana', 'Iran', 'Norway', 'Canada', 'Latvia', 'Poland', 'Mexico', 'Indonesia', 'Singapore', 'Egypt', 'United States', 'Chile', 'New Zealand', 'Denmark', 'Russia', 'Lithuania', 'Brazil', 'United Kingdom'}\n",
      "{'Germany', 'India', 'Italy', 'Australia', None, 'Turkey', 'Japan', 'Hungary', 'Austria', 'Portugal', 'Romania', 'Finland', 'Spain', 'Belgium', 'Netherlands', 'Switzerland', 'France', 'Canada', 'Sweden', 'Singapore', 'United States', 'Russia', 'Lithuania', 'Brazil', 'United Kingdom'}\n",
      "{'Azerbaijan', 'Tunisia', 'Georgia', 'Cameroon', 'India', None, 'Kazakhstan', 'Japan', 'Estonia', 'Belarus', 'Argentina', 'Ghana', 'Algeria', 'Poland', 'Indonesia', 'Iraq', 'Slovakia', 'Panama', 'Sierra Leone', 'Nigeria', 'Germany', 'Slovenia', 'Bulgaria', 'South Korea', 'Italy', 'Kuwait', 'Czech Republic', 'Australia', 'South Africa', 'Turkey', 'Vietnam', 'Taiwan', 'Iceland', 'Malta', 'Luxembourg', 'Liechtenstein', 'Finland', 'Morocco', 'Spain', 'Belgium', 'Pakistan', 'France', 'Iran', 'Canada', 'Moldova', 'Latvia', 'Singapore', 'Chile', 'Denmark', 'United Kingdom', 'Israel', 'Thailand', 'Cyprus', 'Ethiopia', 'Bosnia and Herzegovina', 'Hungary', 'Philippines', 'Romania', 'Greece', 'Serbia', 'China', 'Norway', 'Colombia', 'Qatar', 'New Zealand', 'Brazil', 'Ukraine', 'Croatia', 'Malaysia', 'Austria', 'Portugal', 'United Arab Emirates', 'Netherlands', 'Switzerland', 'Ireland', 'North Macedonia', 'Syria', 'Mexico', 'Sweden', 'Saudi Arabia', 'Egypt', 'United States', 'Russia', 'Lithuania'}\n"
     ]
    }
   ],
   "source": [
    "print(set(publishers_dict.values()))\n",
    "print(set(publisher_locations_dict.values()))\n",
    "print(set(universities_dict.values()))"
   ]
  },
  {
   "cell_type": "markdown",
   "metadata": {},
   "source": [
    "### Save to file"
   ]
  },
  {
   "cell_type": "code",
   "execution_count": 63,
   "metadata": {},
   "outputs": [],
   "source": [
    "import json\n",
    "\n",
    "with open('publishers_dict.json', \"w\") as file:\n",
    "    json.dump(publishers_dict, file)\n",
    "\n",
    "with open('publisher_locations_dict.json', \"w\") as file:\n",
    "    json.dump(publisher_locations_dict, file)\n",
    "\n",
    "with open('universities_dict.json', \"w\") as file:\n",
    "    json.dump(universities_dict, file)"
   ]
  }
 ],
 "metadata": {
  "kernelspec": {
   "display_name": "Python 3",
   "language": "python",
   "name": "python3"
  },
  "language_info": {
   "codemirror_mode": {
    "name": "ipython",
    "version": 3
   },
   "file_extension": ".py",
   "mimetype": "text/x-python",
   "name": "python",
   "nbconvert_exporter": "python",
   "pygments_lexer": "ipython3",
   "version": "3.12.0"
  }
 },
 "nbformat": 4,
 "nbformat_minor": 2
}
