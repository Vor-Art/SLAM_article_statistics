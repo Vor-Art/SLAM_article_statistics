{
 "cells": [
  {
   "cell_type": "markdown",
   "metadata": {},
   "source": [
    "# Get List of articles usnig crossref api"
   ]
  },
  {
   "cell_type": "markdown",
   "metadata": {},
   "source": [
    "### import the required libraries"
   ]
  },
  {
   "cell_type": "code",
   "execution_count": 1,
   "metadata": {},
   "outputs": [],
   "source": [
    "import requests\n",
    "import pandas as pd\n",
    "from time import time"
   ]
  },
  {
   "cell_type": "markdown",
   "metadata": {},
   "source": [
    "### Set API address and parameters"
   ]
  },
  {
   "cell_type": "code",
   "execution_count": 2,
   "metadata": {},
   "outputs": [],
   "source": [
    "api_url = \"https://api.crossref.org/works\"\n",
    "query_params = {\n",
    "    \"query\": \"LiDAR SLAM\",\n",
    "    \"rows\": 1000,  # Adjust based on how many results you want per page\n",
    "    # \"offset\": 0, # Deprecated use cursor instead\n",
    "    \"cursor\": \"*\"  # Starting cursor\n",
    "}"
   ]
  },
  {
   "cell_type": "markdown",
   "metadata": {},
   "source": [
    "### Make test request"
   ]
  },
  {
   "cell_type": "code",
   "execution_count": 3,
   "metadata": {},
   "outputs": [
    {
     "name": "stdout",
     "output_type": "stream",
     "text": [
      "Query: {'start-index': 0, 'search-terms': 'LiDAR SLAM'}\n",
      "The number of work matched criteria = 46933\n",
      "\n"
     ]
    }
   ],
   "source": [
    "test_params = query_params.copy()\n",
    "test_params[\"rows\"] = 10\n",
    "\n",
    "response = requests.get(api_url, params=test_params)\n",
    "if response.status_code != 200: raise SystemExit(\"Bad response\")\n",
    "\n",
    "data = response.json()\n",
    "Number_of_articles = data['message']['total-results']\n",
    "print(f\"Query: {data['message']['query']}\")\n",
    "print(f\"The number of work matched criteria = {Number_of_articles}\\n\")"
   ]
  },
  {
   "cell_type": "markdown",
   "metadata": {},
   "source": [
    "### Function to get information about the article"
   ]
  },
  {
   "cell_type": "code",
   "execution_count": 14,
   "metadata": {},
   "outputs": [],
   "source": [
    "import unicodedata\n",
    "\n",
    "def preprocess_text(text):\n",
    "    text = text.replace(\"\\n\", \" \") # remove new lines\n",
    "    text = text.replace('/',' / ') # ensure space between words\n",
    "    text = text.replace(\",\", \", \").replace(\",  \", \", \") # replace commas without space\n",
    "    return unicodedata.normalize('NFKD', text) \n",
    "\n",
    "def get_article_info(item):\n",
    "    Authors = item.get('author', [])\n",
    "    article_info = {\n",
    "        \"title\": preprocess_text(item.get('title', ['No Title'])[0]),\n",
    "        \"DOI\": item.get('DOI'),\n",
    "        \"publisher\": item.get('publisher'),\n",
    "        \"publisher_location\": item.get('publisher-location'),\n",
    "        \"year\": item.get('created', {}).get('date-parts', [[None]])[0][0],\n",
    "        \"type\": item.get('type'),\n",
    "        \"reference-count\": item.get('reference-count'),\n",
    "        \"is-referenced-by-count\": item.get('is-referenced-by-count'),\n",
    "        \"authors\": ', '.join([author.get('given', '') + \" \" + author.get('family', '') for author in Authors])\n",
    "    }\n",
    "    \n",
    "    try: # use try because some fields may be empty\n",
    "        first_author_affiliation = Authors[0].get('affiliation', [])\n",
    "        affiliation_location = first_author_affiliation[0].get('name')\n",
    "        article_info[\"publisher_affiliation\"] = preprocess_text(affiliation_location)\n",
    "    except Exception:\n",
    "        article_info[\"publisher_affiliation\"] = None\n",
    "    \n",
    "    return article_info"
   ]
  },
  {
   "cell_type": "markdown",
   "metadata": {},
   "source": [
    "### Getting the list of articles and saving them into an array "
   ]
  },
  {
   "cell_type": "code",
   "execution_count": 15,
   "metadata": {},
   "outputs": [
    {
     "name": "stdout",
     "output_type": "stream",
     "text": [
      "articles found: 1000/46933 (5.76 sec)\n",
      "articles found: 2000/46933 (10.11 sec)\n",
      "articles found: 3000/46933 (14.48 sec)\n",
      "articles found: 4000/46933 (20.64 sec)\n",
      "articles found: 5000/46933 (25.33 sec)\n",
      "articles found: 6000/46933 (30.49 sec)\n",
      "articles found: 7000/46933 (35.02 sec)\n",
      "articles found: 8000/46933 (39.57 sec)\n",
      "articles found: 9000/46933 (44.82 sec)\n",
      "articles found: 10000/46933 (49.52 sec)\n",
      "articles found: 11000/46933 (54.44 sec)\n",
      "articles found: 12000/46933 (59.11 sec)\n",
      "articles found: 13000/46933 (63.45 sec)\n",
      "articles found: 14000/46933 (68.39 sec)\n",
      "articles found: 15000/46933 (73.08 sec)\n",
      "articles found: 16000/46933 (78.61 sec)\n",
      "articles found: 17000/46933 (83.39 sec)\n",
      "articles found: 18000/46933 (89.04 sec)\n",
      "articles found: 19000/46933 (93.35 sec)\n",
      "articles found: 20000/46933 (99.47 sec)\n",
      "articles found: 21000/46933 (107.07 sec)\n",
      "articles found: 22000/46933 (114.33 sec)\n",
      "articles found: 23000/46933 (119.18 sec)\n",
      "articles found: 24000/46933 (125.55 sec)\n",
      "articles found: 25000/46933 (130.96 sec)\n",
      "articles found: 26000/46933 (138.59 sec)\n",
      "articles found: 27000/46933 (144.91 sec)\n",
      "articles found: 28000/46933 (150.19 sec)\n",
      "articles found: 29000/46933 (155.80 sec)\n",
      "articles found: 30000/46933 (166.64 sec)\n",
      "articles found: 31000/46933 (172.64 sec)\n",
      "articles found: 32000/46933 (179.70 sec)\n",
      "articles found: 33000/46933 (189.09 sec)\n",
      "articles found: 34000/46933 (199.95 sec)\n",
      "articles found: 35000/46933 (208.51 sec)\n",
      "articles found: 36000/46933 (215.60 sec)\n",
      "articles found: 37000/46933 (224.27 sec)\n",
      "articles found: 38000/46933 (230.34 sec)\n",
      "articles found: 39000/46933 (238.51 sec)\n",
      "articles found: 40000/46933 (244.72 sec)\n",
      "articles found: 41000/46933 (256.43 sec)\n",
      "articles found: 42000/46933 (267.62 sec)\n",
      "articles found: 43000/46933 (274.61 sec)\n",
      "articles found: 44000/46933 (281.03 sec)\n",
      "articles found: 45000/46933 (286.71 sec)\n",
      "articles found: 46000/46933 (292.25 sec)\n",
      "articles found: 46933/46933 (298.05 sec)\n"
     ]
    }
   ],
   "source": [
    "cur_query_params = query_params.copy()\n",
    "articles = []  # List to store article information\n",
    "\n",
    "start = time()\n",
    "while True: \n",
    "    # make request\n",
    "    response = requests.get(api_url, params=cur_query_params) \n",
    "    if response.status_code != 200: raise SystemExit(f\"Bad response ({response.status_code}): {response.json()[\"message\"]}\")\n",
    "\n",
    "    # read list of works    \n",
    "    data = response.json()\n",
    "    items = data['message']['items']\n",
    "\n",
    "    # stop if no work remains\n",
    "    if not items: break\n",
    "\n",
    "    # get article info\n",
    "    for item in items:\n",
    "        articles.append(get_article_info(item))\n",
    "\n",
    "    cur_query_params['cursor'] = data['message'].get('next-cursor')\n",
    "    print(f\"articles found: {len(articles)}/{Number_of_articles} ({(time() - start):.2f} sec)\")"
   ]
  },
  {
   "cell_type": "markdown",
   "metadata": {},
   "source": [
    "### Create pandas dataframe "
   ]
  },
  {
   "cell_type": "code",
   "execution_count": 16,
   "metadata": {},
   "outputs": [
    {
     "data": {
      "text/html": [
       "<div>\n",
       "<style scoped>\n",
       "    .dataframe tbody tr th:only-of-type {\n",
       "        vertical-align: middle;\n",
       "    }\n",
       "\n",
       "    .dataframe tbody tr th {\n",
       "        vertical-align: top;\n",
       "    }\n",
       "\n",
       "    .dataframe thead th {\n",
       "        text-align: right;\n",
       "    }\n",
       "</style>\n",
       "<table border=\"1\" class=\"dataframe\">\n",
       "  <thead>\n",
       "    <tr style=\"text-align: right;\">\n",
       "      <th></th>\n",
       "      <th>title</th>\n",
       "      <th>DOI</th>\n",
       "      <th>publisher</th>\n",
       "      <th>publisher_location</th>\n",
       "      <th>year</th>\n",
       "      <th>type</th>\n",
       "      <th>reference-count</th>\n",
       "      <th>is-referenced-by-count</th>\n",
       "      <th>authors</th>\n",
       "      <th>publisher_affiliation</th>\n",
       "    </tr>\n",
       "  </thead>\n",
       "  <tbody>\n",
       "    <tr>\n",
       "      <th>0</th>\n",
       "      <td>D3VIL-SLAM: 3D Visual Inertial LiDAR SLAM for ...</td>\n",
       "      <td>10.1109/iv55152.2023.10186534</td>\n",
       "      <td>IEEE</td>\n",
       "      <td>None</td>\n",
       "      <td>2023</td>\n",
       "      <td>proceedings-article</td>\n",
       "      <td>23.0</td>\n",
       "      <td>0.0</td>\n",
       "      <td>Matteo Frosi, Matteo Matteucci</td>\n",
       "      <td>Information and Bioengineering Politecnico di ...</td>\n",
       "    </tr>\n",
       "    <tr>\n",
       "      <th>1</th>\n",
       "      <td>Visual and lidar-based SLAM by variational bay...</td>\n",
       "      <td>10.32657/10356/139813</td>\n",
       "      <td>Nanyang Technological University</td>\n",
       "      <td>None</td>\n",
       "      <td>2020</td>\n",
       "      <td>dissertation</td>\n",
       "      <td>0.0</td>\n",
       "      <td>0.0</td>\n",
       "      <td>, Xiaoyue Jiang</td>\n",
       "      <td>None</td>\n",
       "    </tr>\n",
       "    <tr>\n",
       "      <th>2</th>\n",
       "      <td>A Comparison of Outdoor 3D Reconstruction betw...</td>\n",
       "      <td>10.1109/cacs60074.2023.10325866</td>\n",
       "      <td>IEEE</td>\n",
       "      <td>None</td>\n",
       "      <td>2023</td>\n",
       "      <td>proceedings-article</td>\n",
       "      <td>10.0</td>\n",
       "      <td>0.0</td>\n",
       "      <td>Yi-Tian Hong, Han-Pang Huang</td>\n",
       "      <td>National Taiwan University, Department of Mech...</td>\n",
       "    </tr>\n",
       "    <tr>\n",
       "      <th>3</th>\n",
       "      <td>Indoor mapping and positioning applications of...</td>\n",
       "      <td>10.51946/melid.927004</td>\n",
       "      <td>Turkiye lidar dergisi (Mersin University)</td>\n",
       "      <td>None</td>\n",
       "      <td>2021</td>\n",
       "      <td>journal-article</td>\n",
       "      <td>29.0</td>\n",
       "      <td>5.0</td>\n",
       "      <td>Mustafa ZEYBEK</td>\n",
       "      <td>None</td>\n",
       "    </tr>\n",
       "    <tr>\n",
       "      <th>4</th>\n",
       "      <td>SC-LiDAR-SLAM: A Front-end Agnostic Versatile ...</td>\n",
       "      <td>10.1109/iceic54506.2022.9748644</td>\n",
       "      <td>IEEE</td>\n",
       "      <td>None</td>\n",
       "      <td>2022</td>\n",
       "      <td>proceedings-article</td>\n",
       "      <td>46.0</td>\n",
       "      <td>10.0</td>\n",
       "      <td>Giseop Kim, Seungsang Yun, Jeongyun Kim, Ayoun...</td>\n",
       "      <td>KAIST, Dept. of Civil and Envtl. Eng., Daejeon...</td>\n",
       "    </tr>\n",
       "  </tbody>\n",
       "</table>\n",
       "</div>"
      ],
      "text/plain": [
       "                                               title  \\\n",
       "0  D3VIL-SLAM: 3D Visual Inertial LiDAR SLAM for ...   \n",
       "1  Visual and lidar-based SLAM by variational bay...   \n",
       "2  A Comparison of Outdoor 3D Reconstruction betw...   \n",
       "3  Indoor mapping and positioning applications of...   \n",
       "4  SC-LiDAR-SLAM: A Front-end Agnostic Versatile ...   \n",
       "\n",
       "                               DOI                                  publisher  \\\n",
       "0    10.1109/iv55152.2023.10186534                                       IEEE   \n",
       "1            10.32657/10356/139813           Nanyang Technological University   \n",
       "2  10.1109/cacs60074.2023.10325866                                       IEEE   \n",
       "3            10.51946/melid.927004  Turkiye lidar dergisi (Mersin University)   \n",
       "4  10.1109/iceic54506.2022.9748644                                       IEEE   \n",
       "\n",
       "  publisher_location  year                 type  reference-count  \\\n",
       "0               None  2023  proceedings-article             23.0   \n",
       "1               None  2020         dissertation              0.0   \n",
       "2               None  2023  proceedings-article             10.0   \n",
       "3               None  2021      journal-article             29.0   \n",
       "4               None  2022  proceedings-article             46.0   \n",
       "\n",
       "   is-referenced-by-count                                            authors  \\\n",
       "0                     0.0                     Matteo Frosi, Matteo Matteucci   \n",
       "1                     0.0                                    , Xiaoyue Jiang   \n",
       "2                     0.0                       Yi-Tian Hong, Han-Pang Huang   \n",
       "3                     5.0                                     Mustafa ZEYBEK   \n",
       "4                    10.0  Giseop Kim, Seungsang Yun, Jeongyun Kim, Ayoun...   \n",
       "\n",
       "                               publisher_affiliation  \n",
       "0  Information and Bioengineering Politecnico di ...  \n",
       "1                                               None  \n",
       "2  National Taiwan University, Department of Mech...  \n",
       "3                                               None  \n",
       "4  KAIST, Dept. of Civil and Envtl. Eng., Daejeon...  "
      ]
     },
     "execution_count": 16,
     "metadata": {},
     "output_type": "execute_result"
    }
   ],
   "source": [
    "df = pd.DataFrame(articles)\n",
    "df.iloc[:].head()"
   ]
  },
  {
   "cell_type": "code",
   "execution_count": 17,
   "metadata": {},
   "outputs": [
    {
     "name": "stdout",
     "output_type": "stream",
     "text": [
      "<class 'pandas.core.frame.DataFrame'>\n",
      "RangeIndex: 46933 entries, 0 to 46932\n",
      "Data columns (total 10 columns):\n",
      " #   Column                  Non-Null Count  Dtype  \n",
      "---  ------                  --------------  -----  \n",
      " 0   title                   46933 non-null  object \n",
      " 1   DOI                     46933 non-null  object \n",
      " 2   publisher               46933 non-null  object \n",
      " 3   publisher_location      3887 non-null   object \n",
      " 4   year                    46933 non-null  int64  \n",
      " 5   type                    46931 non-null  object \n",
      " 6   reference-count         46898 non-null  float64\n",
      " 7   is-referenced-by-count  46898 non-null  float64\n",
      " 8   authors                 46933 non-null  object \n",
      " 9   publisher_affiliation   9170 non-null   object \n",
      "dtypes: float64(2), int64(1), object(7)\n",
      "memory usage: 3.6+ MB\n"
     ]
    }
   ],
   "source": [
    "df.info()"
   ]
  },
  {
   "cell_type": "markdown",
   "metadata": {},
   "source": [
    "### Save data"
   ]
  },
  {
   "cell_type": "code",
   "execution_count": 18,
   "metadata": {},
   "outputs": [],
   "source": [
    "# Save the DataFrame to a CSV file with proper handling of newline characters\n",
    "df.to_csv('slam_articles.csv', index=False, encoding='utf-8', quoting=1)"
   ]
  }
 ],
 "metadata": {
  "kernelspec": {
   "display_name": "Python 3",
   "language": "python",
   "name": "python3"
  },
  "language_info": {
   "codemirror_mode": {
    "name": "ipython",
    "version": 3
   },
   "file_extension": ".py",
   "mimetype": "text/x-python",
   "name": "python",
   "nbconvert_exporter": "python",
   "pygments_lexer": "ipython3",
   "version": "3.12.0"
  }
 },
 "nbformat": 4,
 "nbformat_minor": 2
}
